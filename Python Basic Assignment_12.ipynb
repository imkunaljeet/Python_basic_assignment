{
 "cells": [
  {
   "cell_type": "markdown",
   "metadata": {},
   "source": [
    "**1. In what modes should the PdfFileReader() and PdfFileWriter() File objects will be opened?**\\\n",
    "PdfFileReader() File object should be opened in 'rb' mode or read-binary mode.\\\n",
    "PdfFileWriter() File object should be opened in 'wb' mode or write-binary mode."
   ]
  },
  {
   "cell_type": "markdown",
   "metadata": {},
   "source": [
    "**2. From a PdfFileReader object, how do you get a Page object for page 5?**\\\n",
    "From a PdfFileReader object, we can get a Page object for page 5 by calling getPage(4) method with 4 as its argument since the PyPDF2 module has zero-based index for getting pages."
   ]
  },
  {
   "cell_type": "markdown",
   "metadata": {},
   "source": [
    "**3. What PdfFileReader variable stores the number of pages in the PDF document?**\\\n",
    "The numPages variable stores the number of pages in the PDF document as an integer. It is an attribute of PdfFileReader object."
   ]
  },
  {
   "cell_type": "markdown",
   "metadata": {},
   "source": [
    "**4. If a PdfFileReader object’s PDF is encrypted with the password swordfish, what must you do\n",
    "before you can obtain Page objects from it?**\\\n",
    "To obtain Page objects from an encrypted PDF of PdfFileReader object we need to call **decrypt('')** function and pass the password swordfish as a string i.e. **decrypt('swordfish')**. After that if we call Page objects it will not cause an error."
   ]
  },
  {
   "cell_type": "markdown",
   "metadata": {},
   "source": [
    "**5. What methods do you use to rotate a page?**\\\n",
    "rotateClockwise() and rotateCounterClockwise() methods are used to rotate a page in a pdf. The page of the pdf can be rotated in 90-degree increments with these two methods. We can pass 90, 180, 270 to these methods as an integer to rotate the page clockwise or anti-clockwise by these degrees respectively."
   ]
  },
  {
   "cell_type": "markdown",
   "metadata": {},
   "source": [
    "**6. What is the difference between a Run object and a Paragraph object?**"
   ]
  },
  {
   "cell_type": "markdown",
   "metadata": {},
   "source": [
    "**7. How do you obtain a list of Paragraph objects for a Document object that’s stored in a variable\n",
    "named doc?**"
   ]
  },
  {
   "cell_type": "markdown",
   "metadata": {},
   "source": [
    "**8. What type of object has bold, underline, italic, strike, and outline variables?**"
   ]
  },
  {
   "cell_type": "markdown",
   "metadata": {},
   "source": [
    "**9. What is the difference between False, True, and None for the bold variable?**"
   ]
  },
  {
   "cell_type": "markdown",
   "metadata": {},
   "source": [
    "**10. How do you create a Document object for a new Word document?**"
   ]
  },
  {
   "cell_type": "markdown",
   "metadata": {},
   "source": [
    "**11. How do you add a paragraph with the text &#39;Hello, there!&#39; to a Document object stored in a\n",
    "variable named doc?**"
   ]
  },
  {
   "cell_type": "markdown",
   "metadata": {},
   "source": [
    "**12. What integers represent the levels of headings available in Word documents?**"
   ]
  },
  {
   "cell_type": "code",
   "execution_count": null,
   "metadata": {},
   "outputs": [],
   "source": []
  }
 ],
 "metadata": {
  "kernelspec": {
   "display_name": "Python 3",
   "language": "python",
   "name": "python3"
  },
  "language_info": {
   "codemirror_mode": {
    "name": "ipython",
    "version": 3
   },
   "file_extension": ".py",
   "mimetype": "text/x-python",
   "name": "python",
   "nbconvert_exporter": "python",
   "pygments_lexer": "ipython3",
   "version": "3.7.6"
  }
 },
 "nbformat": 4,
 "nbformat_minor": 4
}
