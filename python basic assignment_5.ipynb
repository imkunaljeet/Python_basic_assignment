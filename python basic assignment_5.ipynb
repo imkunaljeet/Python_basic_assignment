{
 "cells": [
  {
   "cell_type": "markdown",
   "metadata": {},
   "source": [
    "**1. What does an empty dictionary&#39;s code look like?**\n",
    "\n",
    "{ } is the code for an empty dictionary i.e. two curly brackets."
   ]
  },
  {
   "cell_type": "code",
   "execution_count": 3,
   "metadata": {},
   "outputs": [
    {
     "data": {
      "text/plain": [
       "dict"
      ]
     },
     "execution_count": 3,
     "metadata": {},
     "output_type": "execute_result"
    }
   ],
   "source": [
    "type({})"
   ]
  },
  {
   "cell_type": "markdown",
   "metadata": {},
   "source": [
    "**2. What is the value of a dictionary value with the key &#39;foo&#39; and the value 42?**"
   ]
  },
  {
   "cell_type": "code",
   "execution_count": 5,
   "metadata": {},
   "outputs": [
    {
     "data": {
      "text/plain": [
       "{'foo': 42}"
      ]
     },
     "execution_count": 5,
     "metadata": {},
     "output_type": "execute_result"
    }
   ],
   "source": [
    "value = {'foo' : 42}\n",
    "value"
   ]
  },
  {
   "cell_type": "markdown",
   "metadata": {},
   "source": [
    "**3. What is the most significant distinction between a dictionary and a list?**\n",
    "\n",
    "The items or the elements in a list are ordered while the items stored in a dictionary are unordered."
   ]
  },
  {
   "cell_type": "markdown",
   "metadata": {},
   "source": [
    "**4. What happens if you try to access spam[&#39;foo&#39;] if spam is {&#39;bar&#39;: 100}?**\n",
    "\n",
    "It will show a KeyError :\\\n",
    "KeyError: 'foo'"
   ]
  },
  {
   "cell_type": "markdown",
   "metadata": {},
   "source": [
    "**5. If a dictionary is stored in spam, what is the difference between the expressions &#39;cat&#39; in spam and\n",
    "&#39;cat&#39; in spam.keys()?**\n",
    "\n",
    "There is no difference between both. An expression 'cat' in spam checks whether there is a key named 'cat' in the dictionary in spam and 'cat' in spam.keys() checks the same."
   ]
  },
  {
   "cell_type": "markdown",
   "metadata": {},
   "source": [
    "**6. If a dictionary is stored in spam, what is the difference between the expressions &#39;cat&#39; in spam and\n",
    "&#39;cat&#39; in spam.values()?**\n",
    "\n",
    "The expression 'cat' in spam checks whether there is a key named 'cat' in the dictionary in spam, wheras 'cat' in spam.values() checks whether there is a value 'cat' to one of the keys in the dictionary."
   ]
  },
  {
   "cell_type": "markdown",
   "metadata": {},
   "source": [
    "**7. What is a shortcut for the following code?\\\n",
    "if &#39;color&#39; not in spam:\\\n",
    "spam[&#39;color&#39;] = &#39;black&#39;**\n",
    "\n",
    "spam.setdefault('color','black')"
   ]
  },
  {
   "cell_type": "code",
   "execution_count": 7,
   "metadata": {},
   "outputs": [
    {
     "data": {
      "text/plain": [
       "{'a': 12, 'color': 'black'}"
      ]
     },
     "execution_count": 7,
     "metadata": {},
     "output_type": "execute_result"
    }
   ],
   "source": [
    "spam = {'a':12}\n",
    "spam.setdefault('color','black')\n",
    "spam"
   ]
  },
  {
   "cell_type": "markdown",
   "metadata": {},
   "source": [
    "**8. How do you &quot;pretty print&quot; dictionary values using which module and function?**\n",
    "\n",
    "import pprint\\\n",
    "pprint.pprint()"
   ]
  },
  {
   "cell_type": "code",
   "execution_count": 10,
   "metadata": {},
   "outputs": [
    {
     "name": "stdout",
     "output_type": "stream",
     "text": [
      "{'a': 'king', 'b': 'queen', 'c': 'jack'}\n"
     ]
    }
   ],
   "source": [
    "spam = {'a':'king','b':'queen','c':\n",
    "       'jack'}\n",
    "import pprint\n",
    "pprint.pprint(spam)"
   ]
  }
 ],
 "metadata": {
  "kernelspec": {
   "display_name": "Python 3",
   "language": "python",
   "name": "python3"
  },
  "language_info": {
   "codemirror_mode": {
    "name": "ipython",
    "version": 3
   },
   "file_extension": ".py",
   "mimetype": "text/x-python",
   "name": "python",
   "nbconvert_exporter": "python",
   "pygments_lexer": "ipython3",
   "version": "3.7.6"
  }
 },
 "nbformat": 4,
 "nbformat_minor": 4
}
