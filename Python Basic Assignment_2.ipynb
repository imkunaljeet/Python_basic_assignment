{
 "cells": [
  {
   "cell_type": "markdown",
   "metadata": {},
   "source": [
    "**1.What are the two values of the Boolean data type? How do you write them?**\n",
    "\n",
    "Two values of Boolean data type are true and false. In binary they are 1 and 0 respectively.\\\n",
    "They are written as True and False with 'T' and 'F' in capital letters.\\\n",
    "A True boolean means that the object is valid(username is correct) and a False boolean means that the object is invalid(password is incorrect or you forgot to fill some fields)"
   ]
  },
  {
   "cell_type": "markdown",
   "metadata": {},
   "source": [
    "**2. What are the three different types of Boolean operators?**\n",
    "\n",
    "Three basic types of Boolean operators are AND, OR and NOT.\\\n",
    "They evaluate expressions down to Boolean values returning eithet True or False.\\\n",
    "x and y returns True if both x and y are valid.\\\n",
    "x or y returns True if either of x or y is valid.\\\n",
    "not x returns True if x is not valid."
   ]
  },
  {
   "cell_type": "markdown",
   "metadata": {},
   "source": [
    "**3. Make a list of each Boolean operator&#39;s truth tables (i.e. every possible combination of Boolean\n",
    "values for the operator and what it evaluate ).**\n",
    "\n",
    "### AND Truth Table\n",
    "\n",
    "|Input(x and y)|Return or Output|\n",
    "|:---|:---|\n",
    "|True and True|True|\n",
    "|True and False|False\n",
    "|False and True|False\n",
    "|False and False|False|\n",
    "\n",
    "### OR Truth Table\n",
    "\n",
    "|Input(x or y)|Return or Output|\n",
    "|:---|:---|\n",
    "|True or True|True|\n",
    "|True or False|True|\n",
    "|False or True|True|\n",
    "|False or False|False|\n",
    "\n",
    "### NOT Truth Table\n",
    "\n",
    "|Input(not X)|Return or Output|\n",
    "|:---|:---|\n",
    "|Not True|False|\n",
    "|Not False| True|\n",
    "\n",
    "### == Truth Table\n",
    "\n",
    "|Input(x == y)|Return or Output|\n",
    "|:---|:---|\n",
    "|True == True|True|\n",
    "|True == False|False|\n",
    "|False == True|False|\n",
    "|False == False|True|"
   ]
  },
  {
   "cell_type": "markdown",
   "metadata": {},
   "source": [
    "**4. What are the values of the following expressions?**\n",
    "\n",
    "|Expression|Output|\n",
    "|:---|:---|\n",
    "|(5 &gt; 4) and (3 == 5)|False|\n",
    "|not (5 &gt; 4)|False|\n",
    "|(5 &gt; 4) or (3 == 5)|True|\n",
    "|not ((5 &gt; 4) or (3 == 5))|False|\n",
    "|(True and True) and (True == False)|False|\n",
    "|(not False) or (not True)|True|"
   ]
  },
  {
   "cell_type": "markdown",
   "metadata": {},
   "source": [
    "**5. What are the six comparison operators?**\n",
    "\n",
    "#### Comparison operators are as follows :\n",
    "\n",
    "|Operators|Meaning|\n",
    "|:---|:---|\n",
    "|==|Equal to|\n",
    "|!=|Not equal to|\n",
    "|<|Less than|\n",
    "|>|Greater than|\n",
    "|<=|Less than or equal to|\n",
    "|>=|Greater than or equal to|"
   ]
  },
  {
   "cell_type": "markdown",
   "metadata": {},
   "source": [
    "**6. How do you tell the difference between the equal to and assignment operators?Describe a\n",
    "condition and when you would use one.**\n",
    "\n",
    "= operator : '=' is an assignment operator. It is used for assigning value to a variable.\n",
    "For eg : \n",
    "x = 10\n",
    "y = 'kunal'\n",
    "\n",
    "== operator : '==' means equal to and this operator checks whether the two given operands are equal or not. If it is equal, it returns True otherwise False.\\\n",
    "For eg :\n",
    "15 == 14 will return False\\\n",
    "25 == 5\\*\\*5 will return True "
   ]
  },
  {
   "cell_type": "markdown",
   "metadata": {},
   "source": [
    "**7. Identify the three blocks in this code:\n",
    "spam = 0\n",
    "if spam == 10:\n",
    "print(&#39;eggs&#39;)\n",
    "if spam &gt; 5:\n",
    "print(&#39;bacon&#39;)\n",
    "else:\n",
    "print(&#39;ham&#39;)\n",
    "print(&#39;spam&#39;)\n",
    "print(&#39;spam&#39;)**\n",
    "\n"
   ]
  },
  {
   "cell_type": "code",
   "execution_count": 21,
   "metadata": {},
   "outputs": [
    {
     "name": "stdout",
     "output_type": "stream",
     "text": [
      "ham\n",
      "spam\n",
      "spam\n"
     ]
    }
   ],
   "source": [
    "spam = 0\n",
    "#1st Block :\n",
    "if spam == 10:\n",
    "    print('eggs')\n",
    "\n",
    "#2nd Block :\n",
    "if spam > 5: \n",
    "    print('bacon')\n",
    "\n",
    "#3rd Block\n",
    "else:\n",
    "    print('ham')\n",
    "    print('spam') \n",
    "    print('spam') "
   ]
  },
  {
   "cell_type": "markdown",
   "metadata": {},
   "source": [
    "**8. Write code that prints Hello if 1 is stored in spam, prints Howdy if 2 is stored in spam, and prints\n",
    "Greetings! if anything else is stored in spam.**"
   ]
  },
  {
   "cell_type": "code",
   "execution_count": 8,
   "metadata": {},
   "outputs": [
    {
     "name": "stdout",
     "output_type": "stream",
     "text": [
      "56\n",
      "Greetings!\n"
     ]
    }
   ],
   "source": [
    "spam = int(input())\n",
    "if spam == 1 :\n",
    "    print('Hello')\n",
    "elif spam == 2 :\n",
    "    print('Howdy')\n",
    "else :\n",
    "    print('Greetings!')"
   ]
  },
  {
   "cell_type": "markdown",
   "metadata": {},
   "source": [
    "**9.If your programme is stuck in an endless loop, what keys you’ll press?**\n",
    "\n",
    "ctrl+C"
   ]
  },
  {
   "cell_type": "markdown",
   "metadata": {},
   "source": [
    "**10. How can you tell the difference between break and continue?**\n",
    "\n",
    "A break statement breaks the loop in which it is placed usually under a if statement.If the break statement is placed inside a nested loop, then it will stop only the inner loop. The outer loop will continue to execute until it exhausts itself or another break stateent is used.\\\n",
    "It completely halts a loop.\n",
    "\n",
    "A continue statement skips a single iteration in a loop after a conditon is fulfilled.\\\n",
    "It does not completely halts a loop but just skips a iteration.\n"
   ]
  },
  {
   "cell_type": "markdown",
   "metadata": {},
   "source": [
    "**11. In a for loop, what is the difference between range(10), range(0, 10), and range(0, 10, 1)?**\n",
    "\n",
    "All of the above three expressions have the same meaning in a loop."
   ]
  },
  {
   "cell_type": "markdown",
   "metadata": {},
   "source": [
    "**12. Write a short program that prints the numbers 1 to 10 using a for loop. Then write an equivalent\n",
    "program that prints the numbers 1 to 10 using a while loop.**"
   ]
  },
  {
   "cell_type": "code",
   "execution_count": 16,
   "metadata": {},
   "outputs": [
    {
     "name": "stdout",
     "output_type": "stream",
     "text": [
      "[1, 2, 3, 4, 5, 6, 7, 8, 9, 10]\n"
     ]
    }
   ],
   "source": [
    "l = []\n",
    "for i in range(1,11):\n",
    "    l.append(i)\n",
    "print(l)"
   ]
  },
  {
   "cell_type": "code",
   "execution_count": 17,
   "metadata": {},
   "outputs": [
    {
     "name": "stdout",
     "output_type": "stream",
     "text": [
      "[1, 2, 3, 4, 5, 6, 7, 8, 9, 10]\n"
     ]
    }
   ],
   "source": [
    "l1 = []\n",
    "i = 1\n",
    "while i<=10 :\n",
    "    l1.append(i)\n",
    "    i += 1\n",
    "print(l1)"
   ]
  },
  {
   "cell_type": "markdown",
   "metadata": {},
   "source": [
    "**13. If you had a function named bacon() inside a module named spam, how would you call it after\n",
    "importing spam?**"
   ]
  },
  {
   "cell_type": "markdown",
   "metadata": {},
   "source": [
    "This is the process of using bacon() function :\\\n",
    "import spam\\\n",
    "spam.bacon()\n",
    "\n",
    "or this can also be used:\\\n",
    "from spam import bacon\\\n",
    "bacon()\n"
   ]
  }
 ],
 "metadata": {
  "kernelspec": {
   "display_name": "Python 3",
   "language": "python",
   "name": "python3"
  },
  "language_info": {
   "codemirror_mode": {
    "name": "ipython",
    "version": 3
   },
   "file_extension": ".py",
   "mimetype": "text/x-python",
   "name": "python",
   "nbconvert_exporter": "python",
   "pygments_lexer": "ipython3",
   "version": "3.7.6"
  }
 },
 "nbformat": 4,
 "nbformat_minor": 4
}
