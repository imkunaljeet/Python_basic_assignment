{
 "cells": [
  {
   "cell_type": "markdown",
   "metadata": {},
   "source": [
    "**1. What exactly is [ ] ?**\n",
    "\n",
    "They are known as Index brackets ([ ]) and have many uses in python.\\\n",
    "First they are used to define 'list literals' allowing you to declare a list and its contents.\\\n",
    "They are also used to write expressions that evaluate to a single item within a list or a character of a string.\\\n",
    "They can also be used to overwrite an existing value or add a new item in a list or dictionary."
   ]
  },
  {
   "cell_type": "markdown",
   "metadata": {},
   "source": [
    "**2. In a list of values stored in a variable called spam, how would you assign the value &#39;hello&#39; as the\n",
    "third value? (Assume [2, 4, 6, 8, 10] are in spam.)**\n"
   ]
  },
  {
   "cell_type": "code",
   "execution_count": 4,
   "metadata": {},
   "outputs": [
    {
     "data": {
      "text/plain": [
       "[2, 4, 'hello', 8, 10]"
      ]
     },
     "execution_count": 4,
     "metadata": {},
     "output_type": "execute_result"
    }
   ],
   "source": [
    "spam = [2,4,6,8,10]\n",
    "# Replacing 'hello' as the third value in place of 6'\n",
    "spam[2] = 'hello'\n",
    "spam"
   ]
  },
  {
   "cell_type": "markdown",
   "metadata": {},
   "source": [
    "**Let&#39;s pretend that spam includes the list [&#39;a&#39;, &#39;b&#39;, &#39;c&#39;, &#39;d&#39;] for the next three queries.**"
   ]
  },
  {
   "cell_type": "markdown",
   "metadata": {},
   "source": [
    "**3. What is the value of spam[int(int(&#39;3&#39; * 2) / 11)]?**\n",
    "\n",
    "'3'\\*2 will give '33' and int function will convert this string to integer.\\\n",
    "Finally we will end up with spam[33/11] which calls the 4th item of the spam list.\\\n",
    "Value = 'd'"
   ]
  },
  {
   "cell_type": "code",
   "execution_count": 7,
   "metadata": {},
   "outputs": [
    {
     "data": {
      "text/plain": [
       "'d'"
      ]
     },
     "execution_count": 7,
     "metadata": {},
     "output_type": "execute_result"
    }
   ],
   "source": [
    "spam = ['a','b','c','d']\n",
    "spam[int(int('3'*2)/11)]"
   ]
  },
  {
   "cell_type": "markdown",
   "metadata": {},
   "source": [
    "**4. What is the value of spam[-1]?**\n",
    "\n",
    "spam[-1] gives the last element of the spam list.\\\n",
    "Value = 'd'"
   ]
  },
  {
   "cell_type": "code",
   "execution_count": 8,
   "metadata": {},
   "outputs": [
    {
     "data": {
      "text/plain": [
       "'d'"
      ]
     },
     "execution_count": 8,
     "metadata": {},
     "output_type": "execute_result"
    }
   ],
   "source": [
    "spam[-1]"
   ]
  },
  {
   "cell_type": "markdown",
   "metadata": {},
   "source": [
    "**5. What is the value of spam[:2]?**\n",
    "\n",
    "spam[:2] will give 1st and 2nd items in the spam list. It assumes the blank space before colon as 0th index by default and the upper bound of range i.e. 2 is not included.\\\n",
    "Value = ['a','b']"
   ]
  },
  {
   "cell_type": "code",
   "execution_count": 10,
   "metadata": {},
   "outputs": [
    {
     "data": {
      "text/plain": [
       "['a', 'b']"
      ]
     },
     "execution_count": 10,
     "metadata": {},
     "output_type": "execute_result"
    }
   ],
   "source": [
    "spam[:2]"
   ]
  },
  {
   "cell_type": "markdown",
   "metadata": {},
   "source": [
    "**Let&#39;s pretend bacon has the list [3.14, &#39;cat,&#39; 11, &#39;cat,&#39; True] for the next three questions.**"
   ]
  },
  {
   "cell_type": "code",
   "execution_count": 15,
   "metadata": {},
   "outputs": [],
   "source": [
    "bacon = [3.14,'cat',11,'cat',True]"
   ]
  },
  {
   "cell_type": "markdown",
   "metadata": {},
   "source": [
    "**6. What is the value of bacon.index(&#39;cat&#39;)?**\n",
    "\n",
    "It will give the index no. where cat is appearing in the bacon list for the first time. Index function doesn't work accurately for repetitive elements in a list.\\\n",
    "Value = 1"
   ]
  },
  {
   "cell_type": "code",
   "execution_count": 16,
   "metadata": {},
   "outputs": [
    {
     "data": {
      "text/plain": [
       "1"
      ]
     },
     "execution_count": 16,
     "metadata": {},
     "output_type": "execute_result"
    }
   ],
   "source": [
    "bacon.index('cat')"
   ]
  },
  {
   "cell_type": "markdown",
   "metadata": {},
   "source": [
    "**7. How does bacon.append(99) change the look of the list value in bacon?**\n",
    "\n",
    "This will add 99 as the last item of the list."
   ]
  },
  {
   "cell_type": "code",
   "execution_count": 17,
   "metadata": {},
   "outputs": [
    {
     "data": {
      "text/plain": [
       "[3.14, 'cat', 11, 'cat', True, 99]"
      ]
     },
     "execution_count": 17,
     "metadata": {},
     "output_type": "execute_result"
    }
   ],
   "source": [
    "bacon.append(99)\n",
    "bacon"
   ]
  },
  {
   "cell_type": "markdown",
   "metadata": {},
   "source": [
    "**8. How does bacon.remove(&#39;cat&#39;) change the look of the list in bacon?**\n",
    "\n",
    "This will remove the 'cat' item from the list wherever it is appearing for the first time in it.\\\n",
    "So, it will remove the 'cat' at the 1st index."
   ]
  },
  {
   "cell_type": "code",
   "execution_count": 18,
   "metadata": {},
   "outputs": [
    {
     "data": {
      "text/plain": [
       "[3.14, 11, 'cat', True, 99]"
      ]
     },
     "execution_count": 18,
     "metadata": {},
     "output_type": "execute_result"
    }
   ],
   "source": [
    "bacon.remove('cat')\n",
    "bacon"
   ]
  },
  {
   "cell_type": "markdown",
   "metadata": {},
   "source": [
    "**9. What are the list concatenation and list replication operators?**\n",
    "\n",
    "The operators for list conacatenation is + and list replication is * . This is the same as for strings.\n",
    "For eg :\\\n",
    "[1,2,3] + [4,5] = [1,2,3,4,5]\\\n",
    "[1,2] * 2 = [1,2,1,2]"
   ]
  },
  {
   "cell_type": "markdown",
   "metadata": {},
   "source": [
    "**10. What is difference between the list methods append() and insert()?**\n",
    "\n",
    "Both methods add items or values to the list. While append() only adds value to the end of the list, insert() can add values anywhere in the list."
   ]
  },
  {
   "cell_type": "markdown",
   "metadata": {},
   "source": [
    "**11. What are the two methods for removing items from a list?**\n",
    "\n",
    "The del statement and the remove() list method are two ways of removing items from a list."
   ]
  },
  {
   "cell_type": "code",
   "execution_count": 23,
   "metadata": {},
   "outputs": [
    {
     "data": {
      "text/plain": [
       "[2, 3, 5]"
      ]
     },
     "execution_count": 23,
     "metadata": {},
     "output_type": "execute_result"
    }
   ],
   "source": [
    "l = [1,2,3,4,5]\n",
    "del l[3]\n",
    "l.remove(1)\n",
    "l"
   ]
  },
  {
   "cell_type": "markdown",
   "metadata": {},
   "source": [
    "**12. Describe how list values and string values are identical.**\n",
    "\n",
    "Similarities between list values and string values -\n",
    "1. Both have indexes and slices.\n",
    "2. Both can pe passed to len() function.\n",
    "3. Both can be used in loops.\n",
    "4. Both can be concatenated and replicated.\n",
    "5. Both can be used with the in and not in operators.\n",
    "\n",
    "But lists are mutable wheras strings are immutable. Also list can have element of any type whereas strings can only take characters that are string type."
   ]
  },
  {
   "cell_type": "markdown",
   "metadata": {},
   "source": [
    "**13. What&#39;s the difference between tuples and lists?**\n",
    "\n",
    "Tuples are written using parantheses, t = (1,2)\\\n",
    "Lists are written using square brackets, t1 = [1,2]\\\n",
    "List are mutable, i.e. items in list can be added, deleted or changed whereas in tuple they cannot be changed at all. "
   ]
  },
  {
   "cell_type": "markdown",
   "metadata": {},
   "source": [
    "**14. How do you type a tuple value that only contains the integer 42?**\n",
    "\n",
    "(42,)\\\n",
    "The comma after integer 42 is compulsory otherwise it will be considered as an integer"
   ]
  },
  {
   "cell_type": "code",
   "execution_count": 1,
   "metadata": {},
   "outputs": [
    {
     "data": {
      "text/plain": [
       "(42,)"
      ]
     },
     "execution_count": 1,
     "metadata": {},
     "output_type": "execute_result"
    }
   ],
   "source": [
    "(42,)"
   ]
  },
  {
   "cell_type": "markdown",
   "metadata": {},
   "source": [
    "**15. How do you get a list value&#39;s tuple form? How do you get a tuple value&#39;s list form?**\n",
    "\n",
    "We get list value's tuple form thorugh tuple() function and tuple value's list form through list() function.\n"
   ]
  },
  {
   "cell_type": "code",
   "execution_count": 35,
   "metadata": {},
   "outputs": [
    {
     "data": {
      "text/plain": [
       "[1, 2]"
      ]
     },
     "execution_count": 35,
     "metadata": {},
     "output_type": "execute_result"
    }
   ],
   "source": [
    "t2 = (1,2)\n",
    "l3 = [5,6]\n",
    "list(t2)"
   ]
  },
  {
   "cell_type": "code",
   "execution_count": 36,
   "metadata": {},
   "outputs": [
    {
     "data": {
      "text/plain": [
       "(5, 6)"
      ]
     },
     "execution_count": 36,
     "metadata": {},
     "output_type": "execute_result"
    }
   ],
   "source": [
    "tuple(l3)"
   ]
  },
  {
   "cell_type": "markdown",
   "metadata": {},
   "source": [
    "**16. Variables that &quot;contain&quot; list values are not necessarily lists themselves. Instead, what do they\n",
    "contain?**\n",
    "\n",
    "They contain references to the list values."
   ]
  },
  {
   "cell_type": "markdown",
   "metadata": {},
   "source": [
    "**17. How do you distinguish between copy.copy() and copy.deepcopy()?**\n",
    "\n",
    "copy.copy() will do a shallow copy of the list while copy.deepcopy() will do a deepcopy. Only deepcopy will copy nested lists."
   ]
  },
  {
   "cell_type": "code",
   "execution_count": 7,
   "metadata": {},
   "outputs": [
    {
     "name": "stdout",
     "output_type": "stream",
     "text": [
      "[[1, 2, 3, 4], [89, 0, 8]]\n",
      "[[1, 2, 3, 4], [89, 0, 8], [78]]\n"
     ]
    }
   ],
   "source": [
    "import copy\n",
    "l = [[1,2,3,4],[9,0,8]]\n",
    "l1 = copy.copy(l)\n",
    "l1[1][0] = 89\n",
    "l.append([78])\n",
    "print(l1)\n",
    "print(l)"
   ]
  },
  {
   "cell_type": "code",
   "execution_count": 8,
   "metadata": {},
   "outputs": [
    {
     "name": "stdout",
     "output_type": "stream",
     "text": [
      "[[1, 2, 3, 4], [89, 0, 8]]\n",
      "[[1, 2, 3, 4], [9, 0, 8], [78]]\n"
     ]
    }
   ],
   "source": [
    "import copy\n",
    "l = [[1,2,3,4],[9,0,8]]\n",
    "l1 = copy.deepcopy(l)\n",
    "l1[1][0] = 89\n",
    "l.append([78])\n",
    "print(l1)\n",
    "print(l)"
   ]
  }
 ],
 "metadata": {
  "kernelspec": {
   "display_name": "Python 3",
   "language": "python",
   "name": "python3"
  },
  "language_info": {
   "codemirror_mode": {
    "name": "ipython",
    "version": 3
   },
   "file_extension": ".py",
   "mimetype": "text/x-python",
   "name": "python",
   "nbconvert_exporter": "python",
   "pygments_lexer": "ipython3",
   "version": "3.7.6"
  }
 },
 "nbformat": 4,
 "nbformat_minor": 4
}
