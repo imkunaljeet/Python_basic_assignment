{
 "cells": [
  {
   "cell_type": "markdown",
   "metadata": {},
   "source": [
    "**1. Why are functions advantageous to have in your programs?**\n",
    "\n",
    "Functions reduce the need for duplicate code. It makes it possible that we don't have to write the same program again and agian when required.\\\n",
    "This helps to make the program shorter, easier to call, easier to read and also easier to update."
   ]
  },
  {
   "cell_type": "markdown",
   "metadata": {},
   "source": [
    "**2. When does the code in a function run: when it&#39;s specified or when it&#39;s called?**"
   ]
  },
  {
   "cell_type": "markdown",
   "metadata": {},
   "source": [
    "The code in a function runs or executes when it is called and not when it's specified."
   ]
  },
  {
   "cell_type": "markdown",
   "metadata": {},
   "source": [
    "**3. What statement creates a function?**\\\n",
    "The def statement creates a function.The def keyword is followed by function name.\\\n",
    "For eg :\\\n",
    "def function():\\\n",
    "   pass"
   ]
  },
  {
   "cell_type": "markdown",
   "metadata": {},
   "source": [
    "**4. What is the difference between a function and a function call?**\n",
    "\n",
    "A function is a block of code that reduces the need of writing a program again and again. Fuctions can be built in or user - defined.\n",
    "\n",
    "Functions usually accept input as parameters to return a result which is done during a *function call*. Parameters are not always necessary. A function call is what executes the program in a function and then evaluates the function's return value.  "
   ]
  },
  {
   "cell_type": "markdown",
   "metadata": {},
   "source": [
    "**5. How many global scopes are there in a Python program? How many local scopes?**\n",
    "\n",
    "There is only one global scope in a python program. This scope contains all the names that you define at the top level of a program or a module.\\\n",
    "\n",
    "A local scope is created whenever a function is called. Even if the same function is called again, a new local scope is created."
   ]
  },
  {
   "cell_type": "markdown",
   "metadata": {},
   "source": [
    "**6. What happens to variables in a local scope when the function call returns?**\n",
    "\n",
    "When the function call returns, the local scope is destroyed and all the variables in it are forgotten."
   ]
  },
  {
   "cell_type": "markdown",
   "metadata": {},
   "source": [
    "**7. What is the concept of a return value? Is it possible to have a return value in an expression?**\n",
    "\n",
    "A return value is the value which a function evaluates to. A return value can be used as a part of an expression just like any other value."
   ]
  },
  {
   "cell_type": "markdown",
   "metadata": {},
   "source": [
    "**8. If a function does not have a return statement, what is the return value of a call to that function?**\n",
    "\n",
    " If a function does not have a return statement, there is no return value to the call of that function. Its return value is None."
   ]
  },
  {
   "cell_type": "markdown",
   "metadata": {},
   "source": [
    "**9. How do you make a function variable refer to the global variable?**\n",
    "\n",
    "A global statement makes a variable in a function to refer to the global variable."
   ]
  },
  {
   "cell_type": "markdown",
   "metadata": {},
   "source": [
    "**10. What is the data type of None?**\n",
    "\n",
    "The data type of None is NoneType."
   ]
  },
  {
   "cell_type": "markdown",
   "metadata": {},
   "source": [
    "**11. What does the sentence import areallyourpetsnamederic do?**\n",
    "\n",
    "This sentence imports a module named areallyourpetsnamederic to the program."
   ]
  },
  {
   "cell_type": "markdown",
   "metadata": {},
   "source": [
    "**12. If you had a bacon() feature in a spam module, what would you call it after importing spam?**\n",
    "\n",
    "The bacon function is called by spam.bacon()"
   ]
  },
  {
   "cell_type": "markdown",
   "metadata": {},
   "source": [
    "**13. What can you do to save a programme from crashing if it encounters an error?**\n",
    "\n",
    "We can save a program form crashing with the use of exception handling. We need to place the line or block of code in a try clause which might be causing an error."
   ]
  },
  {
   "cell_type": "markdown",
   "metadata": {},
   "source": [
    "**14. What is the purpose of the try clause? What is the purpose of the except clause?**\n",
    "\n",
    "Ther purpose of the try clause is to save a program from crashing by placing the line or block of code which might cause an error inside it.\\\n",
    "Except caluse cathes an exception. When the code written inside try clause on execution encounters an error, the contents inside the except clause are run."
   ]
  }
 ],
 "metadata": {
  "kernelspec": {
   "display_name": "Python 3",
   "language": "python",
   "name": "python3"
  },
  "language_info": {
   "codemirror_mode": {
    "name": "ipython",
    "version": 3
   },
   "file_extension": ".py",
   "mimetype": "text/x-python",
   "name": "python",
   "nbconvert_exporter": "python",
   "pygments_lexer": "ipython3",
   "version": "3.7.6"
  }
 },
 "nbformat": 4,
 "nbformat_minor": 4
}
