{
 "cells": [
  {
   "cell_type": "markdown",
   "metadata": {},
   "source": [
    "**1. To what does a relative path refer?**\\\n",
    "Relative path refers to path which are relative to current working directory.\\\n",
    "It helps in locating a file or folder starting from the current working directory unlike absolute path which starts from the root folder."
   ]
  },
  {
   "cell_type": "markdown",
   "metadata": {},
   "source": [
    "**2. What does an absolute path start with in your operating system?**\\\n",
    "Absolute path in our oprating system starts with the root folder or the root drives.\\\n",
    "For eg : C:\\ or D:\\"
   ]
  },
  {
   "cell_type": "markdown",
   "metadata": {},
   "source": [
    "**3. What do the functions os.getcwd() and os.chdir() do?**\\\n",
    "os.getcwd() function gives the current working directory as a string.\\\n",
    "os.chdir() function can be used to change the current working directory where we write the new path as a string while calling the function.\\\n",
    "If the specified directory doesn't exist, python will give an error."
   ]
  },
  {
   "cell_type": "markdown",
   "metadata": {},
   "source": [
    "**4. What are the . and .. folders?**\\\n",
    ". and .. are not real folders but special names which could be used in the path.\\\n",
    ". or a single period represents the current directory or folder.\\\n",
    ".. or two periods represent the parent folder."
   ]
  },
  {
   "cell_type": "markdown",
   "metadata": {},
   "source": [
    "**5. In C:\\bacon\\eggs\\spam.txt, which part is the dir name, and which part is the base name?**\\\n",
    "Dir name is C:\\bacon\\eggs\\\n",
    "Base name is spam.txt"
   ]
  },
  {
   "cell_type": "markdown",
   "metadata": {},
   "source": [
    "**6. What are the three “mode” arguments that can be passed to the open() function?**\\\n",
    "Three mode arguments that can be passed to the open() function as second arguments are the string 'r' for read mode, 'w' for write mode and 'a' for append mode."
   ]
  },
  {
   "cell_type": "markdown",
   "metadata": {},
   "source": [
    "**7. What happens if an existing file is opened in write mode?**\\\n",
    "If an existing file is opened in write mode it will overwrite the file and start from scratch just like we overwrite the value of a variable. So, the existing file will be erased and overwritten."
   ]
  },
  {
   "cell_type": "markdown",
   "metadata": {},
   "source": [
    "**8. How do you tell the difference between read() and readlines()?**\\\n",
    "read() function returns the entire content of the file as a single large string.\\\n",
    "readlines() function returns a list of strings where each string represents a different line in the file."
   ]
  },
  {
   "cell_type": "markdown",
   "metadata": {},
   "source": [
    "**9. What data structure does a shelf value resemble?**\\\n",
    "A shelf value resembles the dictionary data structure. It has keys() and values() methods similar a dictionary which also works similar to a dictionary and return a list like values."
   ]
  }
 ],
 "metadata": {
  "kernelspec": {
   "display_name": "Python 3",
   "language": "python",
   "name": "python3"
  },
  "language_info": {
   "codemirror_mode": {
    "name": "ipython",
    "version": 3
   },
   "file_extension": ".py",
   "mimetype": "text/x-python",
   "name": "python",
   "nbconvert_exporter": "python",
   "pygments_lexer": "ipython3",
   "version": "3.7.6"
  }
 },
 "nbformat": 4,
 "nbformat_minor": 4
}
