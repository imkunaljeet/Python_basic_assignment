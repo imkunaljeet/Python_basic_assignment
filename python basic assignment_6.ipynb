{
 "cells": [
  {
   "cell_type": "markdown",
   "metadata": {},
   "source": [
    "**1. What are escape characters, and how do you use them?**\n",
    "\n",
    "Escape characters represent character in string values that is otherwise illegal or not possible to write in a line of code. To write these characters we use escape characters.\\\n",
    "An escape character is a backlash \\ followed by the character that we want to insert in the string."
   ]
  },
  {
   "cell_type": "markdown",
   "metadata": {},
   "source": [
    "**2. What do the escape characters n and t stand for?**\n",
    "\n",
    "\\n stands for new line\\\n",
    "\\t stands for tab"
   ]
  },
  {
   "cell_type": "markdown",
   "metadata": {},
   "source": [
    "**3. What is the way to include backslash characters in a string?**\n",
    "\n",
    "Backslash character is represented by two : \\ \\ (backslashes) in a string."
   ]
  },
  {
   "cell_type": "markdown",
   "metadata": {},
   "source": [
    "**4. The string &quot;Howl&#39;s Moving Castle&quot; is a correct value. Why isn&#39;t the single quote character in the\n",
    "word Howl&#39;s not escaped a problem?**\n",
    "\n",
    "This is not a problem as the single quote in howl's is used in a string where double quotes are used to mark its beginning and end.\\\n",
    "If single quotes were used in the beginning and end then we would have needed to escape howl's single quote."
   ]
  },
  {
   "cell_type": "markdown",
   "metadata": {},
   "source": [
    "**5. How do you write a string of newlines if you don&#39;t want to use the n character?**\n",
    "\n",
    "Multiline strings can be used to write a string of newlines if we don't want to use the \\n character.\\\n",
    "A multiline string begins and ends with three single or double quotes and python indentation rules for blocks do not apply inside it."
   ]
  },
  {
   "cell_type": "markdown",
   "metadata": {},
   "source": [
    "**6. What are the values of the given expressions?**\n",
    "\n",
    "|Expressions|Output|\n",
    "|:---|---:|\n",
    "|&#39;Hello, world!&#39;[1]|'e'\n",
    "|&#39;Hello, world!&#39;[0:5]|'Hello'\n",
    "|&#39;Hello, world!&#39;[:5]|'Hello'\n",
    "|&#39;Hello, world!&#39;[3:]|'lo, world!'"
   ]
  },
  {
   "cell_type": "markdown",
   "metadata": {},
   "source": [
    "**7. What are the values of the following expressions?**\n",
    "\n",
    "|Expressions|Output|\n",
    "|:---|---:|\n",
    "|&#39;Hello&#39;.upper()|'HELLO'|\n",
    "|&#39;Hello&#39;.upper().isupper()|True|\n",
    "|&#39;Hello&#39;.upper().lower()|'hello'|"
   ]
  },
  {
   "cell_type": "markdown",
   "metadata": {},
   "source": [
    "**8. What are the values of the following expressions?**\n",
    "\n",
    "|Expression|Output|\n",
    "|:---|:---:|\n",
    "|&#39;Remember, remember, the fifth of July.&#39;.split()|['Remember,', 'remember,', 'the', 'fifth', 'of', 'July.']|\n",
    "|&#39;-&#39;.join(&#39;There can only one.&#39;.split())| 'There-can-only-one.'|"
   ]
  },
  {
   "cell_type": "markdown",
   "metadata": {},
   "source": [
    "**9. What are the methods for right-justifying, left-justifying, and centering a string?**\n",
    "\n",
    "The rjust(), ljust() and center() methods are used for right-justifying, left-justifying, and centering a string respectively.\\\n",
    "All of them take integers as parameters for the number of whitespaces."
   ]
  },
  {
   "cell_type": "markdown",
   "metadata": {},
   "source": [
    "**10. What is the best way to remove whitespace characters from the start or end?**\n",
    "\n",
    "lstrip() method is used to remove whitespace characters from the start and rstrip() for the end."
   ]
  }
 ],
 "metadata": {
  "kernelspec": {
   "display_name": "Python 3",
   "language": "python",
   "name": "python3"
  },
  "language_info": {
   "codemirror_mode": {
    "name": "ipython",
    "version": 3
   },
   "file_extension": ".py",
   "mimetype": "text/x-python",
   "name": "python",
   "nbconvert_exporter": "python",
   "pygments_lexer": "ipython3",
   "version": "3.7.6"
  }
 },
 "nbformat": 4,
 "nbformat_minor": 4
}
