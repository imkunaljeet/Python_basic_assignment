{
 "cells": [
  {
   "cell_type": "markdown",
   "metadata": {},
   "source": [
    "**1. What is the name of the feature responsible for generating Regex objects?**\\\n",
    "First we have to import re module i.e. regular expression module.\\\n",
    "Then, the function responsible for generating Regex objects is re.compile() "
   ]
  },
  {
   "cell_type": "markdown",
   "metadata": {},
   "source": [
    "**2. Why do raw strings often appear in Regex objects?**\\\n",
    "Raw strings are used often in Regex objects so that we don't have to escape backslashes.\\\n",
    "Without it we would have to escape backslash with backslash each time."
   ]
  },
  {
   "cell_type": "markdown",
   "metadata": {},
   "source": [
    "**3. What is the return value of the search() method?**\\\n",
    "The search() method returns the matched objects. It won't return anything if it can't match according to the regular expression in compile function."
   ]
  },
  {
   "cell_type": "markdown",
   "metadata": {},
   "source": [
    "**4. From a Match item, how do you get the actual strings that match the pattern?**\\\n",
    "The group() method returns the actual strings from the match item."
   ]
  },
  {
   "cell_type": "markdown",
   "metadata": {},
   "source": [
    "**5. In the regex which created from the r&#39;(\\d\\d\\d)-(\\d\\d\\d-\\d\\d\\d\\d)&#39;, what does group zero cover?\n",
    "Group 2? Group 1?**\\\n",
    "Group zero covers the entire match of search method : (\\d\\d\\d)-(\\d\\d\\d-\\d\\d\\d\\d)\\\n",
    "Group 1 covers the match of first set of parentheses : (\\d\\d\\d)\\\n",
    "Group 2 covers the match of second set of parentheses : (\\d\\d\\d-\\d\\d\\d\\d)"
   ]
  },
  {
   "cell_type": "markdown",
   "metadata": {},
   "source": [
    "**6. In standard expression syntax, parentheses and intervals have distinct meanings. How can you tell\n",
    "a regex that you want it to fit real parentheses and periods?**\\\n",
    "We can escape parentheses and periods with backslash(\\\\) by adding backslash in front of parentheses and periods.\\\n",
    "For eg : \n",
    "period escape : \\\\.\n",
    "\n",
    "parentheses escape : \\\\(ineuron\n",
    "\n",
    "parentheses escape : ineuron\\\\)"
   ]
  },
  {
   "cell_type": "markdown",
   "metadata": {},
   "source": [
    "**7. The findall() method returns a string list or a list of string tuples. What causes it to return one of\n",
    "the two options?**\\\n",
    "The findall() method returns a string list when there are no groups in the regex.\\\n",
    "A list of string tuples is returned when there are groups in the regex."
   ]
  },
  {
   "cell_type": "markdown",
   "metadata": {},
   "source": [
    "**8. In standard expressions, what does the | character mean?**\\\n",
    "| is the pipe character. In standard expression it means that one of the two terms can be matched on either side of the pipe. It has the meaning \"either,or\" for the matching."
   ]
  },
  {
   "cell_type": "markdown",
   "metadata": {},
   "source": [
    "**9. In regular expressions, what does the ? character stand for?**\\\n",
    "The ? character means that the group that precedes it as an optional part of the pattern or to signify non greedy matching i.e. it matches the shortest string possible.\\\n",
    "The regex will match the term in the preceding group if it has zero instances or one instance in it."
   ]
  },
  {
   "cell_type": "markdown",
   "metadata": {},
   "source": [
    "**10.In regular expressions, what is the difference between the + and * characters?**\\\n",
    "\\+ means to match \"one or more\" times of the group preceding +. The group preceding + has to appear **atleast one time** and then can be repeated over and over again.\\\n",
    "\\* means to match \"zero or more\" times of the group preceding * . The group preceding * **can be completely absent** or repeated over and over again."
   ]
  },
  {
   "cell_type": "markdown",
   "metadata": {},
   "source": [
    "**11. What is the difference between {4} and {4,5} in regular expression?**\\\n",
    "{4} in regex means that it will match exactly 4 instances of the group preceding {4}.\\\n",
    "{4,5} in regex means that it will match both 4 and 5 instances of the group preceding{4,5}."
   ]
  },
  {
   "cell_type": "markdown",
   "metadata": {},
   "source": [
    "**12. What do you mean by the \\d, \\w, and \\s shorthand character classes signify in regular\n",
    "expressions?**\\\n",
    "\\d represents any numeric digit from 0 to 9.\\\n",
    "\\w represents any letter, numeric digit, or the underscore character.\\\n",
    "\\s represents any space, tab, or newline character."
   ]
  },
  {
   "cell_type": "markdown",
   "metadata": {},
   "source": [
    "**13. What do means by \\D, \\W, and \\S shorthand character classes signify in regular expressions?**\\\n",
    "\\D represents any character that is not a numeric digit from 0 to 9.\\\n",
    "\\W represents any character that is not a letter, numeric digit, or the underscore character.\\\n",
    "\\S represents any character that is not a space, tab, or newline."
   ]
  },
  {
   "cell_type": "markdown",
   "metadata": {},
   "source": [
    "**14. What is the difference between .* and .*? ?** \\\n",
    "The . (dot) character means any single character except the newline and the * (star) character means zero or more of the preceding character. ' .\\* ' character will match everything and anything except a new line.\\\n",
    "The dot-star uses greedy mode so it will try to match as much of the term as possible.\\\n",
    "But .*? helps to match any and all term in a non-greedy mode. In non-greedy mode python matches shortest string possible."
   ]
  },
  {
   "cell_type": "markdown",
   "metadata": {},
   "source": [
    "**15. What is the syntax for matching both numbers and lowercase letters with a character class?**\\\n",
    "re.compile(r'[0-9a-z]')\\\n",
    "or\\\n",
    "re.compile(r'[a-z0-9]')"
   ]
  },
  {
   "cell_type": "markdown",
   "metadata": {},
   "source": [
    "**16. What is the procedure for making a normal expression in regax case insensitive?**\\\n",
    "If we pass re.I or re.IGNORECASE as second argument to re.compile, the normal expression becomes case insensitive.\\\n",
    "For eg :\\\n",
    "CaseInsensitive = re.compile(r'inEuRoN',re.I)"
   ]
  },
  {
   "cell_type": "markdown",
   "metadata": {},
   "source": [
    "**17. What does the . character normally match? What does it match if re.DOTALL is passed as 2nd\n",
    "argument in re.compile()?**\\\n",
    "The . (dot) character matches any single character except the newline character.\\\n",
    "If re.DOTALL is passed as 2nd argument in re.compile(), then it will also match newline character."
   ]
  },
  {
   "cell_type": "markdown",
   "metadata": {},
   "source": [
    "**18. If numRegex = re.compile(r&#39;\\d+&#39;), what will numRegex.sub(&#39;X&#39;, &#39;11 drummers, 10 pipers, five rings, 4\n",
    "hen&#39;) return?**\\\n",
    "This will return : 'X drummers, X pipers, five rings, X hen'\\\n",
    "The first argument in sub() method which is 'X' will replace all the numbers as is mentioned by '\\d+'"
   ]
  },
  {
   "cell_type": "markdown",
   "metadata": {},
   "source": [
    "**19. What does passing re.VERBOSE as the 2nd argument to re.compile() allow to do?**\\\n",
    "Passing re.VERBOSE as the 2nd argument to re.compile() allows to pass whitespace and comment in re.compile() by writing inside three quotes.\\\n",
    "The triple-quote syntax (''') helps to create a multiline string so that you we can spread the regular expression to many lines make it more readable."
   ]
  },
  {
   "cell_type": "markdown",
   "metadata": {},
   "source": [
    "**20. How would you write a regex that match a number with comma for every three digits? It must\n",
    "match the given following:\\\n",
    "&#39;42&#39;\\\n",
    "&#39;1,234&#39;\\\n",
    "&#39;6,368,745&#39;\\\n",
    "but not the following:\\\n",
    "&#39;12,34,567&#39; (which has only two digits between the commas)\\\n",
    "&#39;1234&#39; (which lacks commas)**\n",
    "\n",
    "re.compile(r'^\\d{1,3}(,\\d{3})*$')"
   ]
  },
  {
   "cell_type": "code",
   "execution_count": 11,
   "metadata": {},
   "outputs": [
    {
     "name": "stdout",
     "output_type": "stream",
     "text": [
      "<re.Match object; span=(0, 2), match='42'>\n",
      "<re.Match object; span=(0, 5), match='1,234'>\n",
      "<re.Match object; span=(0, 9), match='6,368,745'>\n",
      "None\n",
      "None\n",
      "None\n"
     ]
    }
   ],
   "source": [
    "import re\n",
    "\n",
    "regex = re.compile(r'^\\d{1,3}(,\\d{3})*$')\n",
    "l = ['42', '1,234', '6,368,745', '12,34,567', '1234', '12343,143']\n",
    "for i in l:\n",
    "    print(re.search(regex, i))"
   ]
  },
  {
   "cell_type": "markdown",
   "metadata": {},
   "source": [
    "**21. How would you write a regex that matches the full name of someone whose last name is\n",
    "Watanabe? You can assume that the first name that comes before it will always be one word that\n",
    "begins with a capital letter. The regex must match the following:\\\n",
    "&#39;Haruto Watanabe&#39;\\\n",
    "&#39;Alice Watanabe&#39;\\\n",
    "&#39;RoboCop Watanabe&#39;\\\n",
    "but not the following:\\\n",
    "&#39;haruto Watanabe&#39; (where the first name is not capitalized)\\\n",
    "&#39;Mr. Watanabe&#39; (where the preceding word has a nonletter character)\\\n",
    "&#39;Watanabe&#39; (which has no first name)\\\n",
    "&#39;Haruto watanabe&#39; (where Watanabe is not capitalized)**\n",
    "\n",
    "re.compile(r'[A-Z][A-Za-z]*\\sWatanabe') will match the above required problem."
   ]
  },
  {
   "cell_type": "code",
   "execution_count": 3,
   "metadata": {},
   "outputs": [
    {
     "data": {
      "text/plain": [
       "['Alice Watanabe', 'RoboCop Watanabe', 'Haruto Watanabe']"
      ]
     },
     "execution_count": 3,
     "metadata": {},
     "output_type": "execute_result"
    }
   ],
   "source": [
    "import re\n",
    "name = re.compile(r'[A-Z][A-Za-z]*\\sWatanabe')\n",
    "name.findall('Alice Watanabe RoboCop Watanabe Haruto Watanabe haruto Watanabe Mr. Watanabe Haruto watanabe Watanabe')"
   ]
  },
  {
   "cell_type": "markdown",
   "metadata": {},
   "source": [
    "**22. How would you write a regex that matches a sentence where the first word is either Alice, Bob,\n",
    "or Carol; the second word is either eats, pets, or throws; the third word is apples, cats, or baseballs;\n",
    "and the sentence ends with a period? This regex should be case-insensitive. It must match the\n",
    "following:\\\n",
    "&#39;Alice eats apples.&#39;\\\n",
    "&#39;Bob pets cats.&#39;\\\n",
    "&#39;Carol throws baseballs.&#39;\\\n",
    "&#39;Alice throws Apples.&#39;\\\n",
    "&#39;BOB EATS CATS.&#39;\\\n",
    "but not the following:\\\n",
    "&#39;RoboCop eats apples.&#39;\\\n",
    "&#39;ALICE THROWS FOOTBALLS.&#39;\\\n",
    "&#39;Carol eats 7 cats.&#39;**\n",
    "\n",
    "re.compile(r'(Alice|Bob|Carol)\\s(eats|pets|throws)\\s(apples|cats|baseballs)\\.',re.IGNORECASE) will match the above required situation."
   ]
  }
 ],
 "metadata": {
  "kernelspec": {
   "display_name": "Python 3",
   "language": "python",
   "name": "python3"
  },
  "language_info": {
   "codemirror_mode": {
    "name": "ipython",
    "version": 3
   },
   "file_extension": ".py",
   "mimetype": "text/x-python",
   "name": "python",
   "nbconvert_exporter": "python",
   "pygments_lexer": "ipython3",
   "version": "3.7.6"
  }
 },
 "nbformat": 4,
 "nbformat_minor": 4
}
