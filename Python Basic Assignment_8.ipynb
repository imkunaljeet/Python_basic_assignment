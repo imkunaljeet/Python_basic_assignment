{
 "cells": [
  {
   "cell_type": "markdown",
   "metadata": {},
   "source": [
    "**1. Is the Python Standard Library included with PyInputPlus?**\\\n",
    "PyInputPlus is not a part of the Python Standard Library. We have to install it separately using Pip. To install PyInputPlus, run **pip install --user pyinputplus** from the command line if you have permission errors or type **pip install pyinputplus** directly in notebook."
   ]
  },
  {
   "cell_type": "markdown",
   "metadata": {},
   "source": [
    "**2. Why is PyInputPlus commonly imported with import pyinputplus as pyip?**\\\n",
    "The as pyip code is used in the import statement so that we don't have to type pyinputplus each time we have to call a function in this module. We can simply call it by using pyip."
   ]
  },
  {
   "cell_type": "markdown",
   "metadata": {},
   "source": [
    "**3. How do you distinguish between inputInt() and inputFloat()?**\\\n",
    "inputint() takes integer as input and returns a integer.\\\n",
    "inputFloat() takes int or float value as input and returns a float value."
   ]
  },
  {
   "cell_type": "markdown",
   "metadata": {},
   "source": [
    "**4. Using PyInputPlus, how do you ensure that the user enters a whole number between 0 and 99?**\\\n",
    "We can use inputInt() function with min = 0 and max = 100 argument. As a result, the input cannot be less than the min argument or greater than the max argument."
   ]
  },
  {
   "cell_type": "code",
   "execution_count": 1,
   "metadata": {},
   "outputs": [
    {
     "name": "stdout",
     "output_type": "stream",
     "text": [
      "Enter Number : -4\n",
      "Number must be at minimum 0.\n",
      "Enter Number : 104\n",
      "Number must be at maximum 100.\n",
      "Enter Number : 56\n"
     ]
    },
    {
     "data": {
      "text/plain": [
       "56"
      ]
     },
     "execution_count": 1,
     "metadata": {},
     "output_type": "execute_result"
    }
   ],
   "source": [
    "import pyinputplus as pyip\n",
    "pyip.inputInt('Enter Number : ',min = 0, max = 100)"
   ]
  },
  {
   "cell_type": "markdown",
   "metadata": {},
   "source": [
    "**5. What is transferred to the keyword arguments allowRegexes and blockRegexes?**\\\n",
    "We can use regular expression to specify a valid input by using the allowRegexes and blockRegexes keyword arguments. They take a list of regular expression strings to determine what the PyInputPlus function will accept or reject respectively as valid input.\\\n",
    "Examples of both are as follows :"
   ]
  },
  {
   "cell_type": "code",
   "execution_count": 12,
   "metadata": {},
   "outputs": [
    {
     "name": "stdout",
     "output_type": "stream",
     "text": [
      "Enter secret code : 5j\n",
      "'5j' is not an integer.\n",
      "Enter secret code : 5a\n"
     ]
    },
    {
     "data": {
      "text/plain": [
       "'5a'"
      ]
     },
     "execution_count": 12,
     "metadata": {},
     "output_type": "execute_result"
    }
   ],
   "source": [
    "# allows first four alphabets - a,b,c,d to be used with integer.\n",
    "pyip.inputInt('Enter secret code : ',allowRegexes=[r'(a|b|c|d)'])"
   ]
  },
  {
   "cell_type": "code",
   "execution_count": 7,
   "metadata": {},
   "outputs": [
    {
     "name": "stdout",
     "output_type": "stream",
     "text": [
      "Enter odd integer : 56\n",
      "This response is invalid.\n",
      "Enter odd integer : 57\n"
     ]
    }
   ],
   "source": [
    "# reject even integers\n",
    "odd = pyip.inputInt('Enter odd integer : ',blockRegexes=[r'[02468]$'])"
   ]
  },
  {
   "cell_type": "markdown",
   "metadata": {},
   "source": [
    "**6. If a blank input is entered three times, what does inputStr(limit=3) do?**\\\n",
    "By default the pyinputplus functions will keep on asking for input until a valid input is given till the program is running. We can set a limit on the number of times the function will ask for a valid input by passing keyword argument limit.\\\n",
    "inputStr(limit=3) means the function will ask for a valid input 3 times. After a blank input is entered three times this keyword argument will cause the function to raise a **RetryLimitException**."
   ]
  },
  {
   "cell_type": "markdown",
   "metadata": {},
   "source": [
    "**7. If blank input is entered three times, what does inputStr(limit=3, default=&#39;hello&#39;) do?**\\\n",
    "Since the limit is 3, the function will take any 3 invalid inputs such as blank.\\\n",
    "But since default keyword is also used alongside limit keyword, the function returns the default value instead of raising an exception i.e. 'hello'."
   ]
  },
  {
   "cell_type": "code",
   "execution_count": 8,
   "metadata": {},
   "outputs": [
    {
     "name": "stdout",
     "output_type": "stream",
     "text": [
      "\n",
      "Blank values are not allowed.\n",
      "\n",
      "Blank values are not allowed.\n",
      "\n",
      "Blank values are not allowed.\n"
     ]
    },
    {
     "data": {
      "text/plain": [
       "'hello'"
      ]
     },
     "execution_count": 8,
     "metadata": {},
     "output_type": "execute_result"
    }
   ],
   "source": [
    "pyip.inputStr(limit=3, default='hello')"
   ]
  }
 ],
 "metadata": {
  "kernelspec": {
   "display_name": "Python 3",
   "language": "python",
   "name": "python3"
  },
  "language_info": {
   "codemirror_mode": {
    "name": "ipython",
    "version": 3
   },
   "file_extension": ".py",
   "mimetype": "text/x-python",
   "name": "python",
   "nbconvert_exporter": "python",
   "pygments_lexer": "ipython3",
   "version": "3.7.6"
  }
 },
 "nbformat": 4,
 "nbformat_minor": 4
}
